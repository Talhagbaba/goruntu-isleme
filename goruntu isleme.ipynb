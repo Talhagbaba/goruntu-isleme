{
 "cells": [
  {
   "cell_type": "markdown",
   "id": "a90db1ba-6346-456c-b18f-a494c03a7eef",
   "metadata": {},
   "source": [
    "# Computer Vision\n",
    "\n",
    "\n",
    "Computer Vision teknolojisi günümüzde giderek daha önemli hale gelen bir alan haline gelmiştir. Bilgisayar vizyonu, bir bilgisayarın dijital görüntülerden anlam çıkarma yeteneğiyle ilgilenen bir bilim dalıdır. Bu teknoloji, kamera veya video kayıt cihazları gibi optik algılayıcılar tarafından yakalanan görüntülerden veri elde etmek ve bu veriyi analiz etmek için kullanılır. Birçok endüstride, tıptan otomotiv sektörüne, güvenlikten eğlenceye kadar birçok alanda uygulamaları bulunmaktadır.\n",
    "\n",
    "Bilgisayar vizyonu, nesne tanıma, yüz tanıma, hareket analizi, 3B modelleme gibi çeşitli alt alanlara ayrılabilir. Nesne tanıma, bir dijital görüntüdeki nesneleri tanımlama ve sınıflandırma sürecidir. Yüz tanıma ise insan yüzlerini tanıma ve doğrulama sürecidir ve genellikle güvenlik sistemlerinde ve biyometrik kimlik doğrulama uygulamalarında kullanılır. Hareket analizi, bir video akışında nesnelerin hareketini izleme ve anlama sürecidir. 3B modelleme ise 2B görüntülerden üç boyutlu model oluşturma işlemidir ve endüstriyel tasarım, oyun geliştirme ve simülasyon gibi alanlarda yaygın olarak kullanılmaktadır.\n",
    "\n",
    "Bilgisayar vizyonu, yapay zeka ve derin öğrenme gibi ileri teknolojilerle birleştirildiğinde, daha da güçlü ve karmaşık sistemlerin geliştirilmesine olanak tanır. Derin öğrenme algoritmaları, büyük miktarda veriyle eğitilerek, görüntülerdeki desenleri algılamak ve öğrenmek için kullanılır. Bu, bilgisayarların insan gözünden daha hızlı ve doğru bir şekilde bilgi çıkarmasını sağlar. Gelecekte, bilgisayar vizyonu teknolojisinin daha da gelişmesiyle birlikte, daha akıllı ve otomatik sistemlerin ortaya çıkması muhtemeldir, bu da birçok endüstri ve günlük yaşamın çeşitli alanlarında dönüşüme yol açabilir."
   ]
  },
  {
   "cell_type": "markdown",
   "id": "ebfa1415-77ef-4991-9a36-5cfa1cb92932",
   "metadata": {},
   "source": [
    "### OpenCv Kütüphanesi Kullanımı\n",
    "OpenCv kütüphanesi kullanarak aşağıdaki işlemler yapılabilir:\n",
    "\n",
    "\n",
    "1-<strong>Nesne Tanıma:</strong><br><br>\n",
    "OpenCV, önceden eğitilmiş modeller veya kullanıcının kendi veri kümesiyle nesneleri tanımak için kullanılabilir. Örneğin, bir görüntüdeki arabaları, insanları veya hayvanları algılamak için önceden eğitilmiş bir nesne tanıma modelini kullanabiliriz.\n",
    "\n",
    "Nesne tanıma, bir görüntüde belirli nesnelerin varlığını tanımlama ve sınıflandırma işlemidir. Bu, yapay zeka ve makine öğrenmesi tekniklerinin güçlü bir kombinasyonunu gerektirir. OpenCV, bu tür işlemleri gerçekleştirmek için bir dizi hazır fonksiyon ve modül sunar.<br><br>\n",
    "2-<strong>Yüz Algılama ve Yüz Tanıma:</strong><br><br>\n",
    "Bu örnekte, kameradan canlı bir video akışı alır ve her kareyi işleyerek yüzleri algılar. Algılanan yüzleri çerçeve içine alarak ekranda gösterir.\n",
    "Yüz algılama, bir görüntüdeki insan yüzlerini tespit etmek için kullanılan bir tekniktir. OpenCV, yüz algılamak için haarcascade yöntemini içeren hazır modüller sağlar. Bu yöntem, yüzlerin belirli özelliklerini (gözler, burun, ağız gibi) içeren bir model kullanarak yüzleri tespit eder.<br><br>\n",
    "\n",
    "3-<strong>Hareket Algılama ve Takip:</strong><br><br>\n",
    "Hareket algılama, ardışık görüntüler arasındaki farkları analiz ederek hareket eden nesneleri tespit etmeyi amaçlar. Bu genellikle bir nesnenin konumundaki değişiklikleri belirlemek için piksel farkları veya optik akış gibi teknikler kullanılarak gerçekleştirilir. OpenCV, bu tür teknikleri uygulamak için bir dizi fonksiyon ve algoritma sağlar.\n"
   ]
  },
  {
   "cell_type": "markdown",
   "id": "bf8597a7-af19-4875-9ea5-9fb77b63b804",
   "metadata": {},
   "source": [
    "### 0- Kütüphanenin kurulumu"
   ]
  },
  {
   "cell_type": "code",
   "execution_count": null,
   "id": "e8300d50-497c-42e1-ac2b-cc458bffa579",
   "metadata": {},
   "outputs": [],
   "source": [
    "pip install opencv-python"
   ]
  },
  {
   "cell_type": "markdown",
   "id": "3a012d5b-7d9d-4b64-82fd-0539628cd9ab",
   "metadata": {},
   "source": [
    "### 1- Nesne Tanıma"
   ]
  },
  {
   "cell_type": "code",
   "execution_count": 1,
   "id": "16af5290-9980-42ea-86f9-c4266926ae24",
   "metadata": {},
   "outputs": [],
   "source": [
    "import cv2\n",
    "import numpy as np\n",
    "\n",
    "# Kamerayı açmak için VideoCapture kullanıyoruz\n",
    "kamera = cv2.VideoCapture(0)\n",
    "\n",
    "# Renk aralıklarını bir sözlükte tanımlama\n",
    "renkler = {\n",
    "    'mavi': ([90, 50, 50], [130, 255, 255]),\n",
    "    'yesil': ([40, 50, 50], [80, 255, 255]),\n",
    "    'kirmizi': ([0, 100, 100], [10, 255, 255])\n",
    "    # Diğer renkler buraya eklenebilir\n",
    "}\n",
    "\n",
    "while True:\n",
    "    # Kameradan bir kare al\n",
    "    ret, kare = kamera.read()\n",
    "    \n",
    "    # Alınan kareyi HSV renk sistemine dönüştürme\n",
    "    hsv = cv2.cvtColor(kare, cv2.COLOR_BGR2HSV)\n",
    "    \n",
    "    # Her renk için maskeleme işlemi gerçekleştirme\n",
    "    for renk, (alt, ust) in renkler.items():\n",
    "        # Belirlenen renk aralığında maskeleme işlemi\n",
    "        maske = cv2.inRange(hsv, np.array(alt), np.array(ust))\n",
    "        \n",
    "        # Maske üzerinde kontur tespiti\n",
    "        konturlar, _ = cv2.findContours(maske, cv2.RETR_EXTERNAL, cv2.CHAIN_APPROX_SIMPLE)\n",
    "        \n",
    "        # Konturları çizme\n",
    "        if len(konturlar) > 0:\n",
    "            en_buyuk_kontur = max(konturlar, key=cv2.contourArea)\n",
    "            x, y, w, h = cv2.boundingRect(en_buyuk_kontur)\n",
    "            cv2.rectangle(kare, (x, y), (x + w, y + h), (0, 255, 0), 2)\n",
    "    \n",
    "    # Sonuçları gösterme\n",
    "    cv2.imshow('Nesne Tespiti', kare)\n",
    "    \n",
    "    # 'q' tuşuna basıldığında döngüyü sonlandırma\n",
    "    if cv2.waitKey(1) & 0xFF == ord('q'):\n",
    "        break\n",
    "\n",
    "# Kamera nesnesini serbest bırakma ve pencereyi kapatma\n",
    "kamera.release()\n",
    "cv2.destroyAllWindows()\n"
   ]
  },
  {
   "cell_type": "markdown",
   "id": "474f1e1f-1f51-4097-b13b-2997d2f13464",
   "metadata": {},
   "source": [
    "### 2- Yüz Algılama ve Yüz Tanıma"
   ]
  },
  {
   "cell_type": "code",
   "execution_count": 2,
   "id": "3be2c9b7-6708-4de3-9ab5-215ce741fef0",
   "metadata": {},
   "outputs": [],
   "source": [
    "import cv2\n",
    "\n",
    "# Yüz tanıma için eğitilmiş haarcascade modelini yükle\n",
    "face_cascade = cv2.CascadeClassifier(cv2.data.haarcascades + 'haarcascade_frontalface_default.xml')\n",
    "\n",
    "# Kamera yakalama cihazını başlat\n",
    "cap = cv2.VideoCapture(0)\n",
    "\n",
    "while True:\n",
    "    # Video akışından bir kare yakala\n",
    "    ret, frame = cap.read()\n",
    "    \n",
    "    # Gri tona dönüştür\n",
    "    gray = cv2.cvtColor(frame, cv2.COLOR_BGR2GRAY)\n",
    "    \n",
    "    # Yüzleri algıla\n",
    "    faces = face_cascade.detectMultiScale(gray, scaleFactor=1.1, minNeighbors=5, minSize=(30, 30))\n",
    "    \n",
    "    # Algılanan yüzleri çerçeve içine al\n",
    "    for (x, y, w, h) in faces:\n",
    "        cv2.rectangle(frame, (x, y), (x+w, y+h), (255, 0, 0), 2)\n",
    "    \n",
    "    # Görüntüyü göster\n",
    "    cv2.imshow('Face Detection', frame)\n",
    "    \n",
    "    # 'q' tuşuna basıldığında döngüyü sonlandır\n",
    "    if cv2.waitKey(1) & 0xFF == ord('q'):\n",
    "        break\n",
    "\n",
    "# Kamera yakalama cihazını serbest bırak\n",
    "cap.release()\n",
    "cv2.destroyAllWindows()\n"
   ]
  },
  {
   "cell_type": "markdown",
   "id": "1384bf1c-b05d-4ff2-a44b-0740b99eba31",
   "metadata": {},
   "source": [
    "### 3- Hareket Algılama ve Takip"
   ]
  },
  {
   "cell_type": "code",
   "execution_count": 5,
   "id": "b265a851-406a-49c5-af2f-3e8cfaf6087f",
   "metadata": {},
   "outputs": [],
   "source": [
    "import cv2\n",
    "\n",
    "# Geçmiş kareyi depoluyoruz\n",
    "gecmis_kare = None\n",
    "\n",
    "# Kameradan görüntü almak için VideoCapture nesnesini başlatma\n",
    "kamera = cv2.VideoCapture(0)\n",
    "\n",
    "while True:\n",
    "    # Kameradan bir kare al\n",
    "    ret, kare = kamera.read()\n",
    "    \n",
    "    # Kareyi gri tonlamaya çevirme\n",
    "    gri_kare = cv2.cvtColor(kare, cv2.COLOR_BGR2GRAY)\n",
    "    \n",
    "    # Hareket algılama için fark görüntüsü oluşturma\n",
    "    if gecmis_kare is None:\n",
    "        gecmis_kare = gri_kare\n",
    "        continue\n",
    "    \n",
    "    fark = cv2.absdiff(gecmis_kare, gri_kare)\n",
    "    \n",
    "    # Fark görüntüsünde eşik değeri uygulama\n",
    "    esik_degeri = 30\n",
    "    _, esikli_fark = cv2.threshold(fark, esik_degeri, 255, cv2.THRESH_BINARY)\n",
    "    \n",
    "    # Esikli fark görüntüsünde konturları bulma\n",
    "    konturlar, _ = cv2.findContours(esikli_fark.copy(), cv2.RETR_EXTERNAL, cv2.CHAIN_APPROX_SIMPLE)\n",
    "    \n",
    "    # Konturları çizme ve hareketli nesnelerin takibi\n",
    "    for kontur in konturlar:\n",
    "        # Küçük konturları yok sayma (gürültüyü azaltır)\n",
    "        if cv2.contourArea(kontur) < 500: \n",
    "            continue\n",
    "        # Konturun sınırlayıcı dikdörtgenini çizme\n",
    "        (x, y, w, h) = cv2.boundingRect(kontur)\n",
    "        cv2.rectangle(kare, (x, y), (x + w, y + h), (0, 255, 0), 2)\n",
    "    \n",
    "    # Sonuçları gösterme\n",
    "    cv2.imshow('Hareket Algılama', kare)\n",
    "    \n",
    "    # 'q' tuşuna basıldığında döngüyü sonlandırma\n",
    "    if cv2.waitKey(1) & 0xFF == ord('q'):\n",
    "        break\n",
    "    \n",
    "    # Bir sonraki çerçeve için önceki kareyi güncelleme\n",
    "    gecmis_kare = gri_kare\n",
    "\n",
    "# Kamera nesnesini ve pencereyi serbest bırakma\n",
    "kamera.release()\n",
    "cv2.destroyAllWindows()\n"
   ]
  }
 ],
 "metadata": {
  "kernelspec": {
   "display_name": "Python 3 (ipykernel)",
   "language": "python",
   "name": "python3"
  },
  "language_info": {
   "codemirror_mode": {
    "name": "ipython",
    "version": 3
   },
   "file_extension": ".py",
   "mimetype": "text/x-python",
   "name": "python",
   "nbconvert_exporter": "python",
   "pygments_lexer": "ipython3",
   "version": "3.11.9"
  }
 },
 "nbformat": 4,
 "nbformat_minor": 5
}
